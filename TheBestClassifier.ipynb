{
    "nbformat_minor": 2, 
    "cells": [
        {
            "source": "<a href=\"https://www.bigdatauniversity.com\"><img src=\"https://ibm.box.com/shared/static/cw2c7r3o20w9zn8gkecaeyjhgw3xdgbj.png\" width=\"400\" align=\"center\"></a>\n\n<h1 align=\"center\"><font size=\"5\">Classification with Python</font></h1>", 
            "cell_type": "markdown", 
            "metadata": {
                "button": false, 
                "new_sheet": false, 
                "run_control": {
                    "read_only": false
                }
            }
        }, 
        {
            "source": "In this notebook we try to practice all the classification algorithms that we learned in this course.\n\nWe load a dataset using Pandas library, and apply the following algorithms, and find the best one for this specific dataset by accuracy evaluation methods.\n\nLets first load required libraries:", 
            "cell_type": "markdown", 
            "metadata": {
                "button": false, 
                "new_sheet": false, 
                "run_control": {
                    "read_only": false
                }
            }
        }, 
        {
            "execution_count": 2, 
            "cell_type": "code", 
            "metadata": {
                "button": false, 
                "new_sheet": false, 
                "run_control": {
                    "read_only": false
                }
            }, 
            "outputs": [], 
            "source": "import itertools\nimport numpy as np\nimport matplotlib.pyplot as plt\nfrom matplotlib.ticker import NullFormatter\nimport pandas as pd\nimport numpy as np\nimport matplotlib.ticker as ticker\nfrom sklearn import preprocessing\n%matplotlib inline"
        }, 
        {
            "source": "### About dataset", 
            "cell_type": "markdown", 
            "metadata": {
                "button": false, 
                "new_sheet": false, 
                "run_control": {
                    "read_only": false
                }
            }
        }, 
        {
            "source": "This dataset is about past loans. The __Loan_train.csv__ data set includes details of 346 customers whose loan are already paid off or defaulted. It includes following fields:\n\n| Field          | Description                                                                           |\n|----------------|---------------------------------------------------------------------------------------|\n| Loan_status    | Whether a loan is paid off on in collection                                           |\n| Principal      | Basic principal loan amount at the                                                    |\n| Terms          | Origination terms which can be weekly (7 days), biweekly, and monthly payoff schedule |\n| Effective_date | When the loan got originated and took effects                                         |\n| Due_date       | Since it\u2019s one-time payoff schedule, each loan has one single due date                |\n| Age            | Age of applicant                                                                      |\n| Education      | Education of applicant                                                                |\n| Gender         | The gender of applicant                                                               |", 
            "cell_type": "markdown", 
            "metadata": {
                "button": false, 
                "new_sheet": false, 
                "run_control": {
                    "read_only": false
                }
            }
        }, 
        {
            "source": "Lets download the dataset", 
            "cell_type": "markdown", 
            "metadata": {
                "button": false, 
                "new_sheet": false, 
                "run_control": {
                    "read_only": false
                }
            }
        }, 
        {
            "execution_count": 3, 
            "cell_type": "code", 
            "metadata": {
                "button": false, 
                "new_sheet": false, 
                "run_control": {
                    "read_only": false
                }
            }, 
            "outputs": [
                {
                    "output_type": "stream", 
                    "name": "stdout", 
                    "text": "--2019-07-13 02:40:17--  https://s3-api.us-geo.objectstorage.softlayer.net/cf-courses-data/CognitiveClass/ML0101ENv3/labs/loan_train.csv\nResolving s3-api.us-geo.objectstorage.softlayer.net (s3-api.us-geo.objectstorage.softlayer.net)... 67.228.254.193\nConnecting to s3-api.us-geo.objectstorage.softlayer.net (s3-api.us-geo.objectstorage.softlayer.net)|67.228.254.193|:443... connected.\nHTTP request sent, awaiting response... 200 OK\nLength: 23101 (23K) [text/csv]\nSaving to: \u2018loan_train.csv\u2019\n\n100%[======================================>] 23,101      --.-K/s   in 0.01s   \n\n2019-07-13 02:40:17 (1.83 MB/s) - \u2018loan_train.csv\u2019 saved [23101/23101]\n\n"
                }
            ], 
            "source": "!wget -O loan_train.csv https://s3-api.us-geo.objectstorage.softlayer.net/cf-courses-data/CognitiveClass/ML0101ENv3/labs/loan_train.csv"
        }, 
        {
            "source": "### Load Data From CSV File  ", 
            "cell_type": "markdown", 
            "metadata": {
                "button": false, 
                "new_sheet": false, 
                "run_control": {
                    "read_only": false
                }
            }
        }, 
        {
            "execution_count": 4, 
            "cell_type": "code", 
            "metadata": {
                "button": false, 
                "new_sheet": false, 
                "run_control": {
                    "read_only": false
                }
            }, 
            "outputs": [
                {
                    "execution_count": 4, 
                    "metadata": {}, 
                    "data": {
                        "text/html": "<div>\n<style scoped>\n    .dataframe tbody tr th:only-of-type {\n        vertical-align: middle;\n    }\n\n    .dataframe tbody tr th {\n        vertical-align: top;\n    }\n\n    .dataframe thead th {\n        text-align: right;\n    }\n</style>\n<table border=\"1\" class=\"dataframe\">\n  <thead>\n    <tr style=\"text-align: right;\">\n      <th></th>\n      <th>Unnamed: 0</th>\n      <th>Unnamed: 0.1</th>\n      <th>loan_status</th>\n      <th>Principal</th>\n      <th>terms</th>\n      <th>effective_date</th>\n      <th>due_date</th>\n      <th>age</th>\n      <th>education</th>\n      <th>Gender</th>\n    </tr>\n  </thead>\n  <tbody>\n    <tr>\n      <th>0</th>\n      <td>0</td>\n      <td>0</td>\n      <td>PAIDOFF</td>\n      <td>1000</td>\n      <td>30</td>\n      <td>9/8/2016</td>\n      <td>10/7/2016</td>\n      <td>45</td>\n      <td>High School or Below</td>\n      <td>male</td>\n    </tr>\n    <tr>\n      <th>1</th>\n      <td>2</td>\n      <td>2</td>\n      <td>PAIDOFF</td>\n      <td>1000</td>\n      <td>30</td>\n      <td>9/8/2016</td>\n      <td>10/7/2016</td>\n      <td>33</td>\n      <td>Bechalor</td>\n      <td>female</td>\n    </tr>\n    <tr>\n      <th>2</th>\n      <td>3</td>\n      <td>3</td>\n      <td>PAIDOFF</td>\n      <td>1000</td>\n      <td>15</td>\n      <td>9/8/2016</td>\n      <td>9/22/2016</td>\n      <td>27</td>\n      <td>college</td>\n      <td>male</td>\n    </tr>\n    <tr>\n      <th>3</th>\n      <td>4</td>\n      <td>4</td>\n      <td>PAIDOFF</td>\n      <td>1000</td>\n      <td>30</td>\n      <td>9/9/2016</td>\n      <td>10/8/2016</td>\n      <td>28</td>\n      <td>college</td>\n      <td>female</td>\n    </tr>\n    <tr>\n      <th>4</th>\n      <td>6</td>\n      <td>6</td>\n      <td>PAIDOFF</td>\n      <td>1000</td>\n      <td>30</td>\n      <td>9/9/2016</td>\n      <td>10/8/2016</td>\n      <td>29</td>\n      <td>college</td>\n      <td>male</td>\n    </tr>\n  </tbody>\n</table>\n</div>", 
                        "text/plain": "   Unnamed: 0  Unnamed: 0.1 loan_status  Principal  terms effective_date  \\\n0           0             0     PAIDOFF       1000     30       9/8/2016   \n1           2             2     PAIDOFF       1000     30       9/8/2016   \n2           3             3     PAIDOFF       1000     15       9/8/2016   \n3           4             4     PAIDOFF       1000     30       9/9/2016   \n4           6             6     PAIDOFF       1000     30       9/9/2016   \n\n    due_date  age             education  Gender  \n0  10/7/2016   45  High School or Below    male  \n1  10/7/2016   33              Bechalor  female  \n2  9/22/2016   27               college    male  \n3  10/8/2016   28               college  female  \n4  10/8/2016   29               college    male  "
                    }, 
                    "output_type": "execute_result"
                }
            ], 
            "source": "df = pd.read_csv('loan_train.csv')\ndf.head()"
        }, 
        {
            "execution_count": 5, 
            "cell_type": "code", 
            "metadata": {}, 
            "outputs": [
                {
                    "execution_count": 5, 
                    "metadata": {}, 
                    "data": {
                        "text/plain": "(346, 10)"
                    }, 
                    "output_type": "execute_result"
                }
            ], 
            "source": "df.shape"
        }, 
        {
            "execution_count": 8, 
            "cell_type": "code", 
            "metadata": {}, 
            "outputs": [
                {
                    "output_type": "stream", 
                    "name": "stdout", 
                    "text": "/home/dsxuser/work\r\n"
                }
            ], 
            "source": "!pwd"
        }, 
        {
            "execution_count": 9, 
            "cell_type": "code", 
            "metadata": {}, 
            "outputs": [
                {
                    "execution_count": 9, 
                    "metadata": {}, 
                    "data": {
                        "text/html": "<a download=\"loan_train.csv\" href=\"data:text/csv;base64,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\" target=\"_blank\">Download CSV file</a>", 
                        "text/plain": "<IPython.core.display.HTML object>"
                    }, 
                    "output_type": "execute_result"
                }
            ], 
            "source": "import base64  \nimport pandas as pd\n\nfrom IPython.display import HTML\n\ndef create_download_link( df, title = \"Download CSV file\", filename = \"loan_train.csv\"):  \n    csv = df.to_csv()\n    b64 = base64.b64encode(csv.encode())\n    payload = b64.decode()\n    html = '<a download=\"{filename}\" href=\"data:text/csv;base64,{payload}\" target=\"_blank\">{title}</a>'\n    html = html.format(payload=payload,title=title,filename=filename)\n    return HTML(html)\n\ncreate_download_link(df)"
        }, 
        {
            "source": "### Convert to date time object ", 
            "cell_type": "markdown", 
            "metadata": {
                "button": false, 
                "new_sheet": false, 
                "run_control": {
                    "read_only": false
                }
            }
        }, 
        {
            "execution_count": 25, 
            "cell_type": "code", 
            "metadata": {
                "button": false, 
                "new_sheet": false, 
                "run_control": {
                    "read_only": false
                }
            }, 
            "outputs": [
                {
                    "execution_count": 25, 
                    "metadata": {}, 
                    "data": {
                        "text/html": "<div>\n<style scoped>\n    .dataframe tbody tr th:only-of-type {\n        vertical-align: middle;\n    }\n\n    .dataframe tbody tr th {\n        vertical-align: top;\n    }\n\n    .dataframe thead th {\n        text-align: right;\n    }\n</style>\n<table border=\"1\" class=\"dataframe\">\n  <thead>\n    <tr style=\"text-align: right;\">\n      <th></th>\n      <th>Unnamed: 0</th>\n      <th>Unnamed: 0.1</th>\n      <th>loan_status</th>\n      <th>Principal</th>\n      <th>terms</th>\n      <th>effective_date</th>\n      <th>due_date</th>\n      <th>age</th>\n      <th>education</th>\n      <th>Gender</th>\n    </tr>\n  </thead>\n  <tbody>\n    <tr>\n      <th>0</th>\n      <td>0</td>\n      <td>0</td>\n      <td>PAIDOFF</td>\n      <td>1000</td>\n      <td>30</td>\n      <td>2016-09-08</td>\n      <td>2016-10-07</td>\n      <td>45</td>\n      <td>High School or Below</td>\n      <td>male</td>\n    </tr>\n    <tr>\n      <th>1</th>\n      <td>2</td>\n      <td>2</td>\n      <td>PAIDOFF</td>\n      <td>1000</td>\n      <td>30</td>\n      <td>2016-09-08</td>\n      <td>2016-10-07</td>\n      <td>33</td>\n      <td>Bechalor</td>\n      <td>female</td>\n    </tr>\n    <tr>\n      <th>2</th>\n      <td>3</td>\n      <td>3</td>\n      <td>PAIDOFF</td>\n      <td>1000</td>\n      <td>15</td>\n      <td>2016-09-08</td>\n      <td>2016-09-22</td>\n      <td>27</td>\n      <td>college</td>\n      <td>male</td>\n    </tr>\n    <tr>\n      <th>3</th>\n      <td>4</td>\n      <td>4</td>\n      <td>PAIDOFF</td>\n      <td>1000</td>\n      <td>30</td>\n      <td>2016-09-09</td>\n      <td>2016-10-08</td>\n      <td>28</td>\n      <td>college</td>\n      <td>female</td>\n    </tr>\n    <tr>\n      <th>4</th>\n      <td>6</td>\n      <td>6</td>\n      <td>PAIDOFF</td>\n      <td>1000</td>\n      <td>30</td>\n      <td>2016-09-09</td>\n      <td>2016-10-08</td>\n      <td>29</td>\n      <td>college</td>\n      <td>male</td>\n    </tr>\n  </tbody>\n</table>\n</div>", 
                        "text/plain": "   Unnamed: 0  Unnamed: 0.1 loan_status  Principal  terms effective_date  \\\n0           0             0     PAIDOFF       1000     30     2016-09-08   \n1           2             2     PAIDOFF       1000     30     2016-09-08   \n2           3             3     PAIDOFF       1000     15     2016-09-08   \n3           4             4     PAIDOFF       1000     30     2016-09-09   \n4           6             6     PAIDOFF       1000     30     2016-09-09   \n\n    due_date  age             education  Gender  \n0 2016-10-07   45  High School or Below    male  \n1 2016-10-07   33              Bechalor  female  \n2 2016-09-22   27               college    male  \n3 2016-10-08   28               college  female  \n4 2016-10-08   29               college    male  "
                    }, 
                    "output_type": "execute_result"
                }
            ], 
            "source": "df['due_date'] = pd.to_datetime(df['due_date'])\ndf['effective_date'] = pd.to_datetime(df['effective_date'])\ndf.head()"
        }, 
        {
            "source": "# Data visualization and pre-processing\n\n", 
            "cell_type": "markdown", 
            "metadata": {
                "button": false, 
                "new_sheet": false, 
                "run_control": {
                    "read_only": false
                }
            }
        }, 
        {
            "source": "Let\u2019s see how many of each class is in our data set ", 
            "cell_type": "markdown", 
            "metadata": {
                "button": false, 
                "new_sheet": false, 
                "run_control": {
                    "read_only": false
                }
            }
        }, 
        {
            "execution_count": 26, 
            "cell_type": "code", 
            "metadata": {
                "button": false, 
                "new_sheet": false, 
                "run_control": {
                    "read_only": false
                }
            }, 
            "outputs": [
                {
                    "execution_count": 26, 
                    "metadata": {}, 
                    "data": {
                        "text/plain": "PAIDOFF       260\nCOLLECTION     86\nName: loan_status, dtype: int64"
                    }, 
                    "output_type": "execute_result"
                }
            ], 
            "source": "df['loan_status'].value_counts()"
        }, 
        {
            "source": "260 people have paid off the loan on time while 86 have gone into collection \n", 
            "cell_type": "markdown", 
            "metadata": {
                "button": false, 
                "new_sheet": false, 
                "run_control": {
                    "read_only": false
                }
            }
        }, 
        {
            "source": "Lets plot some columns to underestand data better:", 
            "cell_type": "markdown", 
            "metadata": {}
        }, 
        {
            "execution_count": 27, 
            "cell_type": "code", 
            "metadata": {}, 
            "outputs": [
                {
                    "output_type": "stream", 
                    "name": "stdout", 
                    "text": "Solving environment: done\n\n## Package Plan ##\n\n  environment location: /opt/conda/envs/Python36\n\n  added / updated specs: \n    - seaborn\n\n\nThe following packages will be downloaded:\n\n    package                    |            build\n    ---------------------------|-----------------\n    numpy-1.16.2               |   py37h7e9f1db_0          49 KB  anaconda\n    ncurses-6.1                |       he6710b0_1         958 KB  anaconda\n    qt-5.9.7                   |       h5867ecd_1        85.9 MB  anaconda\n    pyparsing-2.4.0            |             py_0          58 KB  anaconda\n    statsmodels-0.10.0         |   py37hdd07704_0         9.5 MB  anaconda\n    seaborn-0.9.0              |           py37_0         379 KB  anaconda\n    cycler-0.10.0              |           py37_0          13 KB  anaconda\n    pytz-2019.1                |             py_0         236 KB  anaconda\n    pcre-8.43                  |       he6710b0_0         260 KB  anaconda\n    python-dateutil-2.8.0      |           py37_0         281 KB  anaconda\n    pyqt-5.9.2                 |   py37h22d08a2_1         5.6 MB  anaconda\n    scipy-1.2.1                |   py37h7c811a0_0        17.7 MB  anaconda\n    tk-8.6.8                   |       hbc83047_0         3.1 MB  anaconda\n    freetype-2.9.1             |       h8a8886c_1         822 KB  anaconda\n    jpeg-9b                    |       habf39ab_1         247 KB  anaconda\n    sip-4.19.13                |   py37he6710b0_0         293 KB  anaconda\n    readline-7.0               |       h7b6447c_5         392 KB  anaconda\n    sqlite-3.28.0              |       h7b6447c_0         1.9 MB  anaconda\n    libffi-3.2.1               |       h4deb6c0_3          43 KB  anaconda\n    libxml2-2.9.9              |       hea5a465_1         2.0 MB  anaconda\n    fontconfig-2.13.0          |       h9420a91_0         291 KB  anaconda\n    libedit-3.1.20181209       |       hc058e9b_0         188 KB  anaconda\n    libpng-1.6.37              |       hbc83047_0         364 KB  anaconda\n    numpy-base-1.16.2          |   py37hde5b4d6_0         4.3 MB  anaconda\n    setuptools-41.0.1          |           py37_0         648 KB  anaconda\n    openssl-1.1.1              |       h7b6447c_0         5.0 MB  anaconda\n    mkl_fft-1.0.10             |   py37ha843d7b_0         169 KB  anaconda\n    kiwisolver-1.1.0           |   py37he6710b0_0          90 KB  anaconda\n    matplotlib-3.1.0           |   py37h5429711_0         6.6 MB  anaconda\n    patsy-0.5.1                |           py37_0         375 KB  anaconda\n    xz-5.2.4                   |       h14c3975_4         366 KB  anaconda\n    pandas-0.24.2              |   py37he6710b0_0        11.1 MB  anaconda\n    glib-2.56.2                |       hd408876_0         5.0 MB  anaconda\n    wheel-0.33.4               |           py37_0          39 KB  anaconda\n    ca-certificates-2019.5.15  |                0         133 KB  anaconda\n    icu-58.2                   |       h211956c_0        22.5 MB  anaconda\n    mkl_random-1.0.2           |   py37hd81dba3_0         405 KB  anaconda\n    gstreamer-1.14.0           |       hb453b48_1         3.8 MB  anaconda\n    tornado-6.0.3              |   py37h7b6447c_0         644 KB  anaconda\n    libgcc-ng-9.1.0            |       hdf63c60_0         8.1 MB  anaconda\n    ------------------------------------------------------------\n                                           Total:       199.7 MB\n\nThe following packages will be UPDATED:\n\n    boto3:                1.9.82-py_0             --> 1.9.82-py_0                     \n    botocore:             1.12.82-py_0            --> 1.12.82-py_0                    \n    ca-certificates:      2019.5.15-0             --> 2019.5.15-0             anaconda\n    certifi:              2019.3.9-py36_0         --> 2019.6.16-py37_0        anaconda\n    cloudpickle:          0.7.0-py_0              --> 0.7.0-py_0                      \n    cycler:               0.10.0-py36_0           --> 0.10.0-py37_0           anaconda\n    dask:                 1.1.1-py_0              --> 1.1.1-py_0                      \n    dask-core:            1.1.1-py_0              --> 1.1.1-py_0                      \n    dbus:                 1.13.6-h746ee38_0       --> 1.13.6-h746ee38_0       anaconda\n    expat:                2.2.6-he6710b0_0        --> 2.2.6-he6710b0_0        anaconda\n    fontconfig:           2.13.0-h9420a91_0       --> 2.13.0-h9420a91_0       anaconda\n    freetype:             2.9.1-h8a8886c_1        --> 2.9.1-h8a8886c_1        anaconda\n    glib:                 2.56.2-hd408876_0       --> 2.56.2-hd408876_0       anaconda\n    gst-plugins-base:     1.14.0-hbbd80ab_1       --> 1.14.0-hbbd80ab_1       anaconda\n    gstreamer:            1.14.0-hb453b48_1       --> 1.14.0-hb453b48_1       anaconda\n    kiwisolver:           1.0.1-py36hf484d3e_0    --> 1.1.0-py37he6710b0_0    anaconda\n    libedit:              3.1.20181209-hc058e9b_0 --> 3.1.20181209-hc058e9b_0 anaconda\n    libgcc-ng:            8.2.0-hdf63c60_1        --> 9.1.0-hdf63c60_0        anaconda\n    libpng:               1.6.37-hbc83047_0       --> 1.6.37-hbc83047_0       anaconda\n    libuuid:              1.0.3-h1bed415_2        --> 1.0.3-h1bed415_2        anaconda\n    libxcb:               1.13-h1bed415_1         --> 1.13-h1bed415_1         anaconda\n    libxml2:              2.9.9-he19cac6_0        --> 2.9.9-hea5a465_1        anaconda\n    matplotlib:           3.0.2-py36h5429711_0    --> 3.1.0-py37h5429711_0    anaconda\n    mkl_fft:              1.0.10-py36ha843d7b_0   --> 1.0.10-py37ha843d7b_0   anaconda\n    mkl_random:           1.0.2-py36hd81dba3_0    --> 1.0.2-py37hd81dba3_0    anaconda\n    ncurses:              6.1-he6710b0_1          --> 6.1-he6710b0_1          anaconda\n    numpy:                1.15.4-py36h7e9f1db_0   --> 1.16.2-py37h7e9f1db_0   anaconda\n    numpy-base:           1.15.4-py36hde5b4d6_0   --> 1.16.2-py37hde5b4d6_0   anaconda\n    openssl:              1.1.1c-h7b6447c_1       --> 1.1.1-h7b6447c_0        anaconda\n    pandas:               0.24.1-py36he6710b0_0   --> 0.24.2-py37he6710b0_0   anaconda\n    patsy:                0.5.1-py36_0            --> 0.5.1-py37_0            anaconda\n    pbr:                  5.1.3-py_0              --> 5.1.3-py_0                      \n    pcre:                 8.42-h439df22_0         --> 8.43-he6710b0_0         anaconda\n    pip:                  19.1.1-py36_0           --> 19.1.1-py37_0           anaconda\n    prompt_toolkit:       2.0.8-py_0              --> 2.0.8-py_0                      \n    pyparsing:            2.3.1-py36_0            --> 2.4.0-py_0              anaconda\n    pyshp:                2.1.0-py_0              --> 2.1.0-py_0                      \n    python:               3.6.8-h0371630_0        --> 3.7.3-h0371630_0        anaconda\n    python-dateutil:      2.7.5-py36_0            --> 2.8.0-py37_0            anaconda\n    pytz:                 2018.9-py36_0           --> 2019.1-py_0             anaconda\n    qt:                   5.9.7-h5867ecd_1        --> 5.9.7-h5867ecd_1        anaconda\n    qtawesome:            0.5.6-py_0              --> 0.5.6-py_0                      \n    qtpy:                 1.6.0-py_0              --> 1.6.0-py_0                      \n    readline:             7.0-h7b6447c_5          --> 7.0-h7b6447c_5          anaconda\n    rope:                 0.11.0-py_0             --> 0.11.0-py_0                     \n    scipy:                1.2.0-py36h7c811a0_0    --> 1.2.1-py37h7c811a0_0    anaconda\n    seaborn:              0.9.0-py36_0            --> 0.9.0-py37_0            anaconda\n    setuptools:           40.8.0-py36_0           --> 41.0.1-py37_0           anaconda\n    sip:                  4.19.8-py36hf484d3e_0   --> 4.19.13-py37he6710b0_0  anaconda\n    six:                  1.12.0-py36_0           --> 1.12.0-py37_0           anaconda\n    sqlite:               3.26.0-h7b6447c_0       --> 3.28.0-h7b6447c_0       anaconda\n    statsmodels:          0.9.0-py36h035aef0_0    --> 0.10.0-py37hdd07704_0   anaconda\n    tensorflow-estimator: 1.13.0-py_0             --> 1.13.0-py_0                     \n    tk:                   8.6.8-hbc83047_0        --> 8.6.8-hbc83047_0        anaconda\n    tornado:              5.1.1-py36h7b6447c_0    --> 6.0.3-py37h7b6447c_0    anaconda\n    wheel:                0.32.3-py36_0           --> 0.33.4-py37_0           anaconda\n    xz:                   5.2.4-h14c3975_4        --> 5.2.4-h14c3975_4        anaconda\n    zlib:                 1.2.11-h7b6447c_3       --> 1.2.11-h7b6447c_3       anaconda\n\nThe following packages will be DOWNGRADED:\n\n    icu:                  58.2-h9c2bf20_1         --> 58.2-h211956c_0         anaconda\n    jpeg:                 9b-h024ee3a_2           --> 9b-habf39ab_1           anaconda\n    libffi:               3.2.1-hd88cf55_4        --> 3.2.1-h4deb6c0_3        anaconda\n    pyqt:                 5.9.2-py36h05f1152_2    --> 5.9.2-py37h22d08a2_1    anaconda\n\n\nDownloading and Extracting Packages\nnumpy-1.16.2         | 49 KB     | ##################################### | 100% \nncurses-6.1          | 958 KB    | ##################################### | 100% \nqt-5.9.7             | 85.9 MB   | ##################################### | 100% \npyparsing-2.4.0      | 58 KB     | ##################################### | 100% \nstatsmodels-0.10.0   | 9.5 MB    | ##################################### | 100% \nseaborn-0.9.0        | 379 KB    | ##################################### | 100% \ncycler-0.10.0        | 13 KB     | ##################################### | 100% \npytz-2019.1          | 236 KB    | ##################################### | 100% \npcre-8.43            | 260 KB    | ##################################### | 100% \npython-dateutil-2.8. | 281 KB    | ##################################### | 100% \npyqt-5.9.2           | 5.6 MB    | ##################################### | 100% \nscipy-1.2.1          | 17.7 MB   | ##################################### | 100% \ntk-8.6.8             | 3.1 MB    | ##################################### | 100% \nfreetype-2.9.1       | 822 KB    | ##################################### | 100% \njpeg-9b              | 247 KB    | ##################################### | 100% \nsip-4.19.13          | 293 KB    | ##################################### | 100% \nreadline-7.0         | 392 KB    | ##################################### | 100% \nsqlite-3.28.0        | 1.9 MB    | ##################################### | 100% \nlibffi-3.2.1         | 43 KB     | ##################################### | 100% \nlibxml2-2.9.9        | 2.0 MB    | ##################################### | 100% \nfontconfig-2.13.0    | 291 KB    | ##################################### | 100% \nlibedit-3.1.20181209 | 188 KB    | ###########################7          |  75% \n\n# >>>>>>>>>>>>>>>>>>>>>> ERROR REPORT <<<<<<<<<<<<<<<<<<<<<<\n\n    Traceback (most recent call last):\n      File \"/opt/conda/lib/python3.7/site-packages/conda/gateways/disk/update.py\", line 54, in rename\n        os_rename(source_path, destination_path)\n    OSError: [Errno 18] Invalid cross-device link: '/opt/conda/pkgs/libedit-3.1.20181209-hc058e9b_0' -> '/opt/conda/pkgs/libedit-3.1.20181209-hc058e9b_0.c~'\n    \n    During handling of the above exception, another exception occurred:\n    \n    Traceback (most recent call last):\n      File \"/opt/conda/lib/python3.7/shutil.py\", line 557, in move\n        os.rename(src, real_dst)\n    OSError: [Errno 18] Invalid cross-device link: '/opt/conda/pkgs/libedit-3.1.20181209-hc058e9b_0' -> '/opt/conda/pkgs/libedit-3.1.20181209-hc058e9b_0.c~'\n    \n    During handling of the above exception, another exception occurred:\n    \n    Traceback (most recent call last):\n      File \"/opt/conda/lib/python3.7/site-packages/conda/core/package_cache_data.py\", line 646, in _execute_actions\n        extract_axn.execute(progress_update_extract_axn)\n      File \"/opt/conda/lib/python3.7/site-packages/conda/core/path_actions.py\", line 1312, in execute\n        backoff_rename(self.target_full_path, self.hold_path)\n      File \"/opt/conda/lib/python3.7/site-packages/conda/gateways/disk/update.py\", line 71, in backoff_rename\n        exp_backoff_fn(rename, source_path, destination_path, force)\n      File \"/opt/conda/lib/python3.7/site-packages/conda/gateways/disk/__init__.py\", line 23, in exp_backoff_fn\n        return fn(*args, **kwargs)\n      File \"/opt/conda/lib/python3.7/site-packages/conda/gateways/disk/update.py\", line 63, in rename\n        move(source_path, destination_path)\n      File \"/opt/conda/lib/python3.7/shutil.py\", line 569, in move\n        rmtree(src)\n      File \"/opt/conda/lib/python3.7/shutil.py\", line 485, in rmtree\n        _rmtree_safe_fd(fd, path, onerror)\n      File \"/opt/conda/lib/python3.7/shutil.py\", line 423, in _rmtree_safe_fd\n        _rmtree_safe_fd(dirfd, fullname, onerror)\n      File \"/opt/conda/lib/python3.7/shutil.py\", line 443, in _rmtree_safe_fd\n        onerror(os.unlink, fullname, sys.exc_info())\n      File \"/opt/conda/lib/python3.7/shutil.py\", line 441, in _rmtree_safe_fd\n        os.unlink(entry.name, dir_fd=topfd)\n    PermissionError: [Errno 13] Permission denied: 'about.json'\n    \n    During handling of the above exception, another exception occurred:\n    \n    Traceback (most recent call last):\n      File \"/opt/conda/lib/python3.7/site-packages/conda/exceptions.py\", line 819, in __call__\n        return func(*args, **kwargs)\n      File \"/opt/conda/lib/python3.7/site-packages/conda/cli/main.py\", line 78, in _main\n        exit_code = do_call(args, p)\n      File \"/opt/conda/lib/python3.7/site-packages/conda/cli/conda_argparse.py\", line 77, in do_call\n        exit_code = getattr(module, func_name)(args, parser)\n      File \"/opt/conda/lib/python3.7/site-packages/conda/cli/main_install.py\", line 11, in execute\n        install(args, parser, 'install')\n      File \"/opt/conda/lib/python3.7/site-packages/conda/cli/install.py\", line 253, in install\n        handle_txn(unlink_link_transaction, prefix, args, newenv)\n      File \"/opt/conda/lib/python3.7/site-packages/conda/cli/install.py\", line 278, in handle_txn\n        unlink_link_transaction.download_and_extract()\n      File \"/opt/conda/lib/python3.7/site-packages/conda/core/link.py\", line 174, in download_and_extract\n        self._pfe.execute()\n      File \"/opt/conda/lib/python3.7/site-packages/conda/core/package_cache_data.py\", line 599, in execute\n        exc = self._execute_actions(prec_or_spec, prec_actions)\n      File \"/opt/conda/lib/python3.7/site-packages/conda/core/package_cache_data.py\", line 650, in _execute_actions\n        extract_axn.reverse()\n      File \"/opt/conda/lib/python3.7/site-packages/conda/core/path_actions.py\", line 1360, in reverse\n        backoff_rename(self.hold_path, self.target_full_path)\n      File \"/opt/conda/lib/python3.7/site-packages/conda/gateways/disk/update.py\", line 71, in backoff_rename\n        exp_backoff_fn(rename, source_path, destination_path, force)\n      File \"/opt/conda/lib/python3.7/site-packages/conda/gateways/disk/__init__.py\", line 23, in exp_backoff_fn\n        return fn(*args, **kwargs)\n      File \"/opt/conda/lib/python3.7/site-packages/conda/gateways/disk/update.py\", line 54, in rename\n        os_rename(source_path, destination_path)\n    OSError: [Errno 39] Directory not empty: '/opt/conda/pkgs/libedit-3.1.20181209-hc058e9b_0.c~' -> '/opt/conda/pkgs/libedit-3.1.20181209-hc058e9b_0'\n\n`$ /opt/conda/bin/conda install -c anaconda seaborn -y`\n\n  environment variables:\n                 CIO_TEST=<not set>\n                CLASSPATH=/home/dsxuser/jars/*:/opt/ibm/dsdriver/java/db2jcc4.jar\n        CONDA_DEFAULT_ENV=Python36\n                CONDA_EXE=/opt/conda/bin/conda\n               CONDA_HOME=/opt/conda\n             CONDA_PREFIX=/opt/conda/envs/Python36\n           CONDA_PREFIX_1=/opt/conda/envs/DSX-Jupyter\n    CONDA_PROMPT_MODIFIER=(Python36)\n         CONDA_PYTHON_EXE=/opt/conda/bin/python\n               CONDA_ROOT=/opt/conda\n              CONDA_SHLVL=2\n          LD_LIBRARY_PATH=/opt/ibm/dsdriver/lib\n                     PATH=/opt/conda/envs/Python36/bin:/opt/conda/bin:/usr/bin:/bin:/opt/ibm/dsd\n                          river/bin\n       REQUESTS_CA_BUNDLE=<not set>\n            SSL_CERT_FILE=<not set>\n\n     active environment : Python36\n    active env location : /opt/conda/envs/Python36\n            shell level : 2\n       user config file : /home/dsxuser/.condarc\n populated config files : /opt/conda/.condarc\n          conda version : 4.5.12\n    conda-build version : not installed\n         python version : 3.7.1.final.0\n       base environment : /opt/conda  (writable)\n           channel URLs : https://conda.anaconda.org/anaconda/linux-64\n                          https://conda.anaconda.org/anaconda/noarch\n                          https://repo.anaconda.com/pkgs/main/linux-64\n                          https://repo.anaconda.com/pkgs/main/noarch\n                          https://repo.anaconda.com/pkgs/free/linux-64\n                          https://repo.anaconda.com/pkgs/free/noarch\n                          https://repo.anaconda.com/pkgs/r/linux-64\n                          https://repo.anaconda.com/pkgs/r/noarch\n                          https://repo.anaconda.com/pkgs/pro/linux-64\n                          https://repo.anaconda.com/pkgs/pro/noarch\n          package cache : /opt/conda/pkgs\n                          /home/dsxuser/.conda/pkgs\n       envs directories : /opt/conda/envs\n                          /home/dsxuser/.conda/envs\n               platform : linux-64\n             user-agent : conda/4.5.12 requests/2.21.0 CPython/3.7.1 Linux/4.4.0-151-generic centos/7 glibc/2.17\n                UID:GID : 1000:1000\n             netrc file : None\n           offline mode : False\n\n\nAn unexpected error has occurred. Conda has prepared the above report.\nUpload successful.\r\n"
                }
            ], 
            "source": "# notice: installing seaborn might takes a few minutes\n!conda install -c anaconda seaborn -y"
        }, 
        {
            "execution_count": 28, 
            "cell_type": "code", 
            "metadata": {}, 
            "outputs": [
                {
                    "output_type": "display_data", 
                    "data": {
                        "image/png": "[encoded data removed]", 
                        "text/plain": "<Figure size 432x216 with 2 Axes>"
                    }, 
                    "metadata": {
                        "needs_background": "light"
                    }
                }
            ], 
            "source": "import seaborn as sns\n\nbins = np.linspace(df.Principal.min(), df.Principal.max(), 10)\ng = sns.FacetGrid(df, col=\"Gender\", hue=\"loan_status\", palette=\"Set1\", col_wrap=2)\ng.map(plt.hist, 'Principal', bins=bins, ec=\"k\")\n\ng.axes[-1].legend()\nplt.show()"
        }, 
        {
            "execution_count": 29, 
            "cell_type": "code", 
            "metadata": {
                "button": false, 
                "new_sheet": false, 
                "run_control": {
                    "read_only": false
                }
            }, 
            "outputs": [
                {
                    "output_type": "display_data", 
                    "data": {
                        "image/png": "[encoded data removed]", 
                        "text/plain": "<Figure size 432x216 with 2 Axes>"
                    }, 
                    "metadata": {
                        "needs_background": "light"
                    }
                }
            ], 
            "source": "bins = np.linspace(df.age.min(), df.age.max(), 10)\ng = sns.FacetGrid(df, col=\"Gender\", hue=\"loan_status\", palette=\"Set1\", col_wrap=2)\ng.map(plt.hist, 'age', bins=bins, ec=\"k\")\n\ng.axes[-1].legend()\nplt.show()"
        }, 
        {
            "source": "# Pre-processing:  Feature selection/extraction", 
            "cell_type": "markdown", 
            "metadata": {
                "button": false, 
                "new_sheet": false, 
                "run_control": {
                    "read_only": false
                }
            }
        }, 
        {
            "source": "### Lets look at the day of the week people get the loan ", 
            "cell_type": "markdown", 
            "metadata": {
                "button": false, 
                "new_sheet": false, 
                "run_control": {
                    "read_only": false
                }
            }
        }, 
        {
            "execution_count": 30, 
            "cell_type": "code", 
            "metadata": {
                "button": false, 
                "new_sheet": false, 
                "run_control": {
                    "read_only": false
                }
            }, 
            "outputs": [
                {
                    "output_type": "display_data", 
                    "data": {
                        "image/png": "[encoded data removed]", 
                        "text/plain": "<Figure size 432x216 with 2 Axes>"
                    }, 
                    "metadata": {
                        "needs_background": "light"
                    }
                }
            ], 
            "source": "df['dayofweek'] = df['effective_date'].dt.dayofweek\nbins = np.linspace(df.dayofweek.min(), df.dayofweek.max(), 10)\ng = sns.FacetGrid(df, col=\"Gender\", hue=\"loan_status\", palette=\"Set1\", col_wrap=2)\ng.map(plt.hist, 'dayofweek', bins=bins, ec=\"k\")\ng.axes[-1].legend()\nplt.show()\n"
        }, 
        {
            "source": "We see that people who get the loan at the end of the week dont pay it off, so lets use Feature binarization to set a threshold values less then day 4 ", 
            "cell_type": "markdown", 
            "metadata": {
                "button": false, 
                "new_sheet": false, 
                "run_control": {
                    "read_only": false
                }
            }
        }, 
        {
            "execution_count": 31, 
            "cell_type": "code", 
            "metadata": {
                "button": false, 
                "new_sheet": false, 
                "run_control": {
                    "read_only": false
                }
            }, 
            "outputs": [
                {
                    "execution_count": 31, 
                    "metadata": {}, 
                    "data": {
                        "text/html": "<div>\n<style scoped>\n    .dataframe tbody tr th:only-of-type {\n        vertical-align: middle;\n    }\n\n    .dataframe tbody tr th {\n        vertical-align: top;\n    }\n\n    .dataframe thead th {\n        text-align: right;\n    }\n</style>\n<table border=\"1\" class=\"dataframe\">\n  <thead>\n    <tr style=\"text-align: right;\">\n      <th></th>\n      <th>Unnamed: 0</th>\n      <th>Unnamed: 0.1</th>\n      <th>loan_status</th>\n      <th>Principal</th>\n      <th>terms</th>\n      <th>effective_date</th>\n      <th>due_date</th>\n      <th>age</th>\n      <th>education</th>\n      <th>Gender</th>\n      <th>dayofweek</th>\n      <th>weekend</th>\n    </tr>\n  </thead>\n  <tbody>\n    <tr>\n      <th>0</th>\n      <td>0</td>\n      <td>0</td>\n      <td>PAIDOFF</td>\n      <td>1000</td>\n      <td>30</td>\n      <td>2016-09-08</td>\n      <td>2016-10-07</td>\n      <td>45</td>\n      <td>High School or Below</td>\n      <td>male</td>\n      <td>3</td>\n      <td>0</td>\n    </tr>\n    <tr>\n      <th>1</th>\n      <td>2</td>\n      <td>2</td>\n      <td>PAIDOFF</td>\n      <td>1000</td>\n      <td>30</td>\n      <td>2016-09-08</td>\n      <td>2016-10-07</td>\n      <td>33</td>\n      <td>Bechalor</td>\n      <td>female</td>\n      <td>3</td>\n      <td>0</td>\n    </tr>\n    <tr>\n      <th>2</th>\n      <td>3</td>\n      <td>3</td>\n      <td>PAIDOFF</td>\n      <td>1000</td>\n      <td>15</td>\n      <td>2016-09-08</td>\n      <td>2016-09-22</td>\n      <td>27</td>\n      <td>college</td>\n      <td>male</td>\n      <td>3</td>\n      <td>0</td>\n    </tr>\n    <tr>\n      <th>3</th>\n      <td>4</td>\n      <td>4</td>\n      <td>PAIDOFF</td>\n      <td>1000</td>\n      <td>30</td>\n      <td>2016-09-09</td>\n      <td>2016-10-08</td>\n      <td>28</td>\n      <td>college</td>\n      <td>female</td>\n      <td>4</td>\n      <td>1</td>\n    </tr>\n    <tr>\n      <th>4</th>\n      <td>6</td>\n      <td>6</td>\n      <td>PAIDOFF</td>\n      <td>1000</td>\n      <td>30</td>\n      <td>2016-09-09</td>\n      <td>2016-10-08</td>\n      <td>29</td>\n      <td>college</td>\n      <td>male</td>\n      <td>4</td>\n      <td>1</td>\n    </tr>\n  </tbody>\n</table>\n</div>", 
                        "text/plain": "   Unnamed: 0  Unnamed: 0.1 loan_status  Principal  terms effective_date  \\\n0           0             0     PAIDOFF       1000     30     2016-09-08   \n1           2             2     PAIDOFF       1000     30     2016-09-08   \n2           3             3     PAIDOFF       1000     15     2016-09-08   \n3           4             4     PAIDOFF       1000     30     2016-09-09   \n4           6             6     PAIDOFF       1000     30     2016-09-09   \n\n    due_date  age             education  Gender  dayofweek  weekend  \n0 2016-10-07   45  High School or Below    male          3        0  \n1 2016-10-07   33              Bechalor  female          3        0  \n2 2016-09-22   27               college    male          3        0  \n3 2016-10-08   28               college  female          4        1  \n4 2016-10-08   29               college    male          4        1  "
                    }, 
                    "output_type": "execute_result"
                }
            ], 
            "source": "df['weekend'] = df['dayofweek'].apply(lambda x: 1 if (x>3)  else 0)\ndf.head()"
        }, 
        {
            "source": "## Convert Categorical features to numerical values", 
            "cell_type": "markdown", 
            "metadata": {
                "button": false, 
                "new_sheet": false, 
                "run_control": {
                    "read_only": false
                }
            }
        }, 
        {
            "source": "Lets look at gender:", 
            "cell_type": "markdown", 
            "metadata": {
                "button": false, 
                "new_sheet": false, 
                "run_control": {
                    "read_only": false
                }
            }
        }, 
        {
            "execution_count": 32, 
            "cell_type": "code", 
            "metadata": {
                "button": false, 
                "new_sheet": false, 
                "run_control": {
                    "read_only": false
                }
            }, 
            "outputs": [
                {
                    "execution_count": 32, 
                    "metadata": {}, 
                    "data": {
                        "text/plain": "Gender  loan_status\nfemale  PAIDOFF        0.865385\n        COLLECTION     0.134615\nmale    PAIDOFF        0.731293\n        COLLECTION     0.268707\nName: loan_status, dtype: float64"
                    }, 
                    "output_type": "execute_result"
                }
            ], 
            "source": "df.groupby(['Gender'])['loan_status'].value_counts(normalize=True)"
        }, 
        {
            "source": "86 % of female pay there loans while only 73 % of males pay there loan\n", 
            "cell_type": "markdown", 
            "metadata": {
                "button": false, 
                "new_sheet": false, 
                "run_control": {
                    "read_only": false
                }
            }
        }, 
        {
            "source": "Lets convert male to 0 and female to 1:\n", 
            "cell_type": "markdown", 
            "metadata": {
                "button": false, 
                "new_sheet": false, 
                "run_control": {
                    "read_only": false
                }
            }
        }, 
        {
            "execution_count": 33, 
            "cell_type": "code", 
            "metadata": {
                "button": false, 
                "new_sheet": false, 
                "run_control": {
                    "read_only": false
                }
            }, 
            "outputs": [
                {
                    "execution_count": 33, 
                    "metadata": {}, 
                    "data": {
                        "text/html": "<div>\n<style scoped>\n    .dataframe tbody tr th:only-of-type {\n        vertical-align: middle;\n    }\n\n    .dataframe tbody tr th {\n        vertical-align: top;\n    }\n\n    .dataframe thead th {\n        text-align: right;\n    }\n</style>\n<table border=\"1\" class=\"dataframe\">\n  <thead>\n    <tr style=\"text-align: right;\">\n      <th></th>\n      <th>Unnamed: 0</th>\n      <th>Unnamed: 0.1</th>\n      <th>loan_status</th>\n      <th>Principal</th>\n      <th>terms</th>\n      <th>effective_date</th>\n      <th>due_date</th>\n      <th>age</th>\n      <th>education</th>\n      <th>Gender</th>\n      <th>dayofweek</th>\n      <th>weekend</th>\n    </tr>\n  </thead>\n  <tbody>\n    <tr>\n      <th>0</th>\n      <td>0</td>\n      <td>0</td>\n      <td>PAIDOFF</td>\n      <td>1000</td>\n      <td>30</td>\n      <td>2016-09-08</td>\n      <td>2016-10-07</td>\n      <td>45</td>\n      <td>High School or Below</td>\n      <td>0</td>\n      <td>3</td>\n      <td>0</td>\n    </tr>\n    <tr>\n      <th>1</th>\n      <td>2</td>\n      <td>2</td>\n      <td>PAIDOFF</td>\n      <td>1000</td>\n      <td>30</td>\n      <td>2016-09-08</td>\n      <td>2016-10-07</td>\n      <td>33</td>\n      <td>Bechalor</td>\n      <td>1</td>\n      <td>3</td>\n      <td>0</td>\n    </tr>\n    <tr>\n      <th>2</th>\n      <td>3</td>\n      <td>3</td>\n      <td>PAIDOFF</td>\n      <td>1000</td>\n      <td>15</td>\n      <td>2016-09-08</td>\n      <td>2016-09-22</td>\n      <td>27</td>\n      <td>college</td>\n      <td>0</td>\n      <td>3</td>\n      <td>0</td>\n    </tr>\n    <tr>\n      <th>3</th>\n      <td>4</td>\n      <td>4</td>\n      <td>PAIDOFF</td>\n      <td>1000</td>\n      <td>30</td>\n      <td>2016-09-09</td>\n      <td>2016-10-08</td>\n      <td>28</td>\n      <td>college</td>\n      <td>1</td>\n      <td>4</td>\n      <td>1</td>\n    </tr>\n    <tr>\n      <th>4</th>\n      <td>6</td>\n      <td>6</td>\n      <td>PAIDOFF</td>\n      <td>1000</td>\n      <td>30</td>\n      <td>2016-09-09</td>\n      <td>2016-10-08</td>\n      <td>29</td>\n      <td>college</td>\n      <td>0</td>\n      <td>4</td>\n      <td>1</td>\n    </tr>\n  </tbody>\n</table>\n</div>", 
                        "text/plain": "   Unnamed: 0  Unnamed: 0.1 loan_status  Principal  terms effective_date  \\\n0           0             0     PAIDOFF       1000     30     2016-09-08   \n1           2             2     PAIDOFF       1000     30     2016-09-08   \n2           3             3     PAIDOFF       1000     15     2016-09-08   \n3           4             4     PAIDOFF       1000     30     2016-09-09   \n4           6             6     PAIDOFF       1000     30     2016-09-09   \n\n    due_date  age             education  Gender  dayofweek  weekend  \n0 2016-10-07   45  High School or Below       0          3        0  \n1 2016-10-07   33              Bechalor       1          3        0  \n2 2016-09-22   27               college       0          3        0  \n3 2016-10-08   28               college       1          4        1  \n4 2016-10-08   29               college       0          4        1  "
                    }, 
                    "output_type": "execute_result"
                }
            ], 
            "source": "df['Gender'].replace(to_replace=['male','female'], value=[0,1],inplace=True)\ndf.head()"
        }, 
        {
            "source": "## One Hot Encoding  \n#### How about education?", 
            "cell_type": "markdown", 
            "metadata": {
                "button": false, 
                "new_sheet": false, 
                "run_control": {
                    "read_only": false
                }
            }
        }, 
        {
            "execution_count": 34, 
            "cell_type": "code", 
            "metadata": {
                "button": false, 
                "new_sheet": false, 
                "run_control": {
                    "read_only": false
                }
            }, 
            "outputs": [
                {
                    "execution_count": 34, 
                    "metadata": {}, 
                    "data": {
                        "text/plain": "education             loan_status\nBechalor              PAIDOFF        0.750000\n                      COLLECTION     0.250000\nHigh School or Below  PAIDOFF        0.741722\n                      COLLECTION     0.258278\nMaster or Above       COLLECTION     0.500000\n                      PAIDOFF        0.500000\ncollege               PAIDOFF        0.765101\n                      COLLECTION     0.234899\nName: loan_status, dtype: float64"
                    }, 
                    "output_type": "execute_result"
                }
            ], 
            "source": "df.groupby(['education'])['loan_status'].value_counts(normalize=True)"
        }, 
        {
            "source": "#### Feature befor One Hot Encoding", 
            "cell_type": "markdown", 
            "metadata": {
                "button": false, 
                "new_sheet": false, 
                "run_control": {
                    "read_only": false
                }
            }
        }, 
        {
            "execution_count": 35, 
            "cell_type": "code", 
            "metadata": {
                "button": false, 
                "new_sheet": false, 
                "run_control": {
                    "read_only": false
                }
            }, 
            "outputs": [
                {
                    "execution_count": 35, 
                    "metadata": {}, 
                    "data": {
                        "text/html": "<div>\n<style scoped>\n    .dataframe tbody tr th:only-of-type {\n        vertical-align: middle;\n    }\n\n    .dataframe tbody tr th {\n        vertical-align: top;\n    }\n\n    .dataframe thead th {\n        text-align: right;\n    }\n</style>\n<table border=\"1\" class=\"dataframe\">\n  <thead>\n    <tr style=\"text-align: right;\">\n      <th></th>\n      <th>Principal</th>\n      <th>terms</th>\n      <th>age</th>\n      <th>Gender</th>\n      <th>education</th>\n    </tr>\n  </thead>\n  <tbody>\n    <tr>\n      <th>0</th>\n      <td>1000</td>\n      <td>30</td>\n      <td>45</td>\n      <td>0</td>\n      <td>High School or Below</td>\n    </tr>\n    <tr>\n      <th>1</th>\n      <td>1000</td>\n      <td>30</td>\n      <td>33</td>\n      <td>1</td>\n      <td>Bechalor</td>\n    </tr>\n    <tr>\n      <th>2</th>\n      <td>1000</td>\n      <td>15</td>\n      <td>27</td>\n      <td>0</td>\n      <td>college</td>\n    </tr>\n    <tr>\n      <th>3</th>\n      <td>1000</td>\n      <td>30</td>\n      <td>28</td>\n      <td>1</td>\n      <td>college</td>\n    </tr>\n    <tr>\n      <th>4</th>\n      <td>1000</td>\n      <td>30</td>\n      <td>29</td>\n      <td>0</td>\n      <td>college</td>\n    </tr>\n  </tbody>\n</table>\n</div>", 
                        "text/plain": "   Principal  terms  age  Gender             education\n0       1000     30   45       0  High School or Below\n1       1000     30   33       1              Bechalor\n2       1000     15   27       0               college\n3       1000     30   28       1               college\n4       1000     30   29       0               college"
                    }, 
                    "output_type": "execute_result"
                }
            ], 
            "source": "df[['Principal','terms','age','Gender','education']].head()"
        }, 
        {
            "source": "#### Use one hot encoding technique to conver categorical varables to binary variables and append them to the feature Data Frame ", 
            "cell_type": "markdown", 
            "metadata": {
                "button": false, 
                "new_sheet": false, 
                "run_control": {
                    "read_only": false
                }
            }
        }, 
        {
            "execution_count": 36, 
            "cell_type": "code", 
            "metadata": {
                "button": false, 
                "new_sheet": false, 
                "run_control": {
                    "read_only": false
                }
            }, 
            "outputs": [
                {
                    "execution_count": 36, 
                    "metadata": {}, 
                    "data": {
                        "text/html": "<div>\n<style scoped>\n    .dataframe tbody tr th:only-of-type {\n        vertical-align: middle;\n    }\n\n    .dataframe tbody tr th {\n        vertical-align: top;\n    }\n\n    .dataframe thead th {\n        text-align: right;\n    }\n</style>\n<table border=\"1\" class=\"dataframe\">\n  <thead>\n    <tr style=\"text-align: right;\">\n      <th></th>\n      <th>Principal</th>\n      <th>terms</th>\n      <th>age</th>\n      <th>Gender</th>\n      <th>weekend</th>\n      <th>Bechalor</th>\n      <th>High School or Below</th>\n      <th>college</th>\n    </tr>\n  </thead>\n  <tbody>\n    <tr>\n      <th>0</th>\n      <td>1000</td>\n      <td>30</td>\n      <td>45</td>\n      <td>0</td>\n      <td>0</td>\n      <td>0</td>\n      <td>1</td>\n      <td>0</td>\n    </tr>\n    <tr>\n      <th>1</th>\n      <td>1000</td>\n      <td>30</td>\n      <td>33</td>\n      <td>1</td>\n      <td>0</td>\n      <td>1</td>\n      <td>0</td>\n      <td>0</td>\n    </tr>\n    <tr>\n      <th>2</th>\n      <td>1000</td>\n      <td>15</td>\n      <td>27</td>\n      <td>0</td>\n      <td>0</td>\n      <td>0</td>\n      <td>0</td>\n      <td>1</td>\n    </tr>\n    <tr>\n      <th>3</th>\n      <td>1000</td>\n      <td>30</td>\n      <td>28</td>\n      <td>1</td>\n      <td>1</td>\n      <td>0</td>\n      <td>0</td>\n      <td>1</td>\n    </tr>\n    <tr>\n      <th>4</th>\n      <td>1000</td>\n      <td>30</td>\n      <td>29</td>\n      <td>0</td>\n      <td>1</td>\n      <td>0</td>\n      <td>0</td>\n      <td>1</td>\n    </tr>\n  </tbody>\n</table>\n</div>", 
                        "text/plain": "   Principal  terms  age  Gender  weekend  Bechalor  High School or Below  \\\n0       1000     30   45       0        0         0                     1   \n1       1000     30   33       1        0         1                     0   \n2       1000     15   27       0        0         0                     0   \n3       1000     30   28       1        1         0                     0   \n4       1000     30   29       0        1         0                     0   \n\n   college  \n0        0  \n1        0  \n2        1  \n3        1  \n4        1  "
                    }, 
                    "output_type": "execute_result"
                }
            ], 
            "source": "Feature = df[['Principal','terms','age','Gender','weekend']]\nFeature = pd.concat([Feature,pd.get_dummies(df['education'])], axis=1)\nFeature.drop(['Master or Above'], axis = 1,inplace=True)\nFeature.head()\n"
        }, 
        {
            "source": "### Feature selection", 
            "cell_type": "markdown", 
            "metadata": {
                "button": false, 
                "new_sheet": false, 
                "run_control": {
                    "read_only": false
                }
            }
        }, 
        {
            "source": "Lets defind feature sets, X:", 
            "cell_type": "markdown", 
            "metadata": {
                "button": false, 
                "new_sheet": false, 
                "run_control": {
                    "read_only": false
                }
            }
        }, 
        {
            "execution_count": 37, 
            "cell_type": "code", 
            "metadata": {
                "button": false, 
                "new_sheet": false, 
                "run_control": {
                    "read_only": false
                }
            }, 
            "outputs": [
                {
                    "execution_count": 37, 
                    "metadata": {}, 
                    "data": {
                        "text/html": "<div>\n<style scoped>\n    .dataframe tbody tr th:only-of-type {\n        vertical-align: middle;\n    }\n\n    .dataframe tbody tr th {\n        vertical-align: top;\n    }\n\n    .dataframe thead th {\n        text-align: right;\n    }\n</style>\n<table border=\"1\" class=\"dataframe\">\n  <thead>\n    <tr style=\"text-align: right;\">\n      <th></th>\n      <th>Principal</th>\n      <th>terms</th>\n      <th>age</th>\n      <th>Gender</th>\n      <th>weekend</th>\n      <th>Bechalor</th>\n      <th>High School or Below</th>\n      <th>college</th>\n    </tr>\n  </thead>\n  <tbody>\n    <tr>\n      <th>0</th>\n      <td>1000</td>\n      <td>30</td>\n      <td>45</td>\n      <td>0</td>\n      <td>0</td>\n      <td>0</td>\n      <td>1</td>\n      <td>0</td>\n    </tr>\n    <tr>\n      <th>1</th>\n      <td>1000</td>\n      <td>30</td>\n      <td>33</td>\n      <td>1</td>\n      <td>0</td>\n      <td>1</td>\n      <td>0</td>\n      <td>0</td>\n    </tr>\n    <tr>\n      <th>2</th>\n      <td>1000</td>\n      <td>15</td>\n      <td>27</td>\n      <td>0</td>\n      <td>0</td>\n      <td>0</td>\n      <td>0</td>\n      <td>1</td>\n    </tr>\n    <tr>\n      <th>3</th>\n      <td>1000</td>\n      <td>30</td>\n      <td>28</td>\n      <td>1</td>\n      <td>1</td>\n      <td>0</td>\n      <td>0</td>\n      <td>1</td>\n    </tr>\n    <tr>\n      <th>4</th>\n      <td>1000</td>\n      <td>30</td>\n      <td>29</td>\n      <td>0</td>\n      <td>1</td>\n      <td>0</td>\n      <td>0</td>\n      <td>1</td>\n    </tr>\n  </tbody>\n</table>\n</div>", 
                        "text/plain": "   Principal  terms  age  Gender  weekend  Bechalor  High School or Below  \\\n0       1000     30   45       0        0         0                     1   \n1       1000     30   33       1        0         1                     0   \n2       1000     15   27       0        0         0                     0   \n3       1000     30   28       1        1         0                     0   \n4       1000     30   29       0        1         0                     0   \n\n   college  \n0        0  \n1        0  \n2        1  \n3        1  \n4        1  "
                    }, 
                    "output_type": "execute_result"
                }
            ], 
            "source": "X = Feature\nX[0:5]"
        }, 
        {
            "source": "What are our lables?", 
            "cell_type": "markdown", 
            "metadata": {
                "button": false, 
                "new_sheet": false, 
                "run_control": {
                    "read_only": false
                }
            }
        }, 
        {
            "execution_count": 38, 
            "cell_type": "code", 
            "metadata": {
                "button": false, 
                "new_sheet": false, 
                "run_control": {
                    "read_only": false
                }
            }, 
            "outputs": [
                {
                    "execution_count": 38, 
                    "metadata": {}, 
                    "data": {
                        "text/plain": "array(['PAIDOFF', 'PAIDOFF', 'PAIDOFF', 'PAIDOFF', 'PAIDOFF'],\n      dtype=object)"
                    }, 
                    "output_type": "execute_result"
                }
            ], 
            "source": "y = df['loan_status'].values\ny[0:5]"
        }, 
        {
            "source": "## Normalize Data ", 
            "cell_type": "markdown", 
            "metadata": {
                "button": false, 
                "new_sheet": false, 
                "run_control": {
                    "read_only": false
                }
            }
        }, 
        {
            "source": "Data Standardization give data zero mean and unit variance (technically should be done after train test split )", 
            "cell_type": "markdown", 
            "metadata": {
                "button": false, 
                "new_sheet": false, 
                "run_control": {
                    "read_only": false
                }
            }
        }, 
        {
            "execution_count": 39, 
            "cell_type": "code", 
            "metadata": {
                "button": false, 
                "new_sheet": false, 
                "run_control": {
                    "read_only": false
                }
            }, 
            "outputs": [
                {
                    "output_type": "stream", 
                    "name": "stderr", 
                    "text": "/opt/conda/envs/Python36/lib/python3.6/site-packages/sklearn/preprocessing/data.py:645: DataConversionWarning: Data with input dtype uint8, int64 were all converted to float64 by StandardScaler.\n  return self.partial_fit(X, y)\n/opt/conda/envs/Python36/lib/python3.6/site-packages/ipykernel/__main__.py:1: DataConversionWarning: Data with input dtype uint8, int64 were all converted to float64 by StandardScaler.\n  if __name__ == '__main__':\n"
                }, 
                {
                    "execution_count": 39, 
                    "metadata": {}, 
                    "data": {
                        "text/plain": "array([[ 0.51578458,  0.92071769,  2.33152555, -0.42056004, -1.20577805,\n        -0.38170062,  1.13639374, -0.86968108],\n       [ 0.51578458,  0.92071769,  0.34170148,  2.37778177, -1.20577805,\n         2.61985426, -0.87997669, -0.86968108],\n       [ 0.51578458, -0.95911111, -0.65321055, -0.42056004, -1.20577805,\n        -0.38170062, -0.87997669,  1.14984679],\n       [ 0.51578458,  0.92071769, -0.48739188,  2.37778177,  0.82934003,\n        -0.38170062, -0.87997669,  1.14984679],\n       [ 0.51578458,  0.92071769, -0.3215732 , -0.42056004,  0.82934003,\n        -0.38170062, -0.87997669,  1.14984679]])"
                    }, 
                    "output_type": "execute_result"
                }
            ], 
            "source": "X= preprocessing.StandardScaler().fit(X).transform(X)\nX[0:5]"
        }, 
        {
            "source": "# Classification ", 
            "cell_type": "markdown", 
            "metadata": {
                "button": false, 
                "new_sheet": false, 
                "run_control": {
                    "read_only": false
                }
            }
        }, 
        {
            "source": "Now, it is your turn, use the training set to build an accurate model. Then use the test set to report the accuracy of the model\nYou should use the following algorithm:\n- K Nearest Neighbor(KNN)\n- Decision Tree\n- Support Vector Machine\n- Logistic Regression\n\n\n\n__ Notice:__ \n- You can go above and change the pre-processing, feature selection, feature-extraction, and so on, to make a better model.\n- You should use either scikit-learn, Scipy or Numpy libraries for developing the classification algorithms.\n- You should include the code of the algorithm in the following cells.", 
            "cell_type": "markdown", 
            "metadata": {
                "button": false, 
                "new_sheet": false, 
                "run_control": {
                    "read_only": false
                }
            }
        }, 
        {
            "source": "# K Nearest Neighbor(KNN)\nNotice: You should find the best k to build the model with the best accuracy.  \n**warning:** You should not use the __loan_test.csv__ for finding the best k, however, you can split your train_loan.csv into train and test to find the best __k__.", 
            "cell_type": "markdown", 
            "metadata": {}
        }, 
        {
            "execution_count": null, 
            "cell_type": "code", 
            "metadata": {}, 
            "outputs": [], 
            "source": ""
        }, 
        {
            "execution_count": null, 
            "cell_type": "code", 
            "metadata": {}, 
            "outputs": [], 
            "source": ""
        }, 
        {
            "execution_count": null, 
            "cell_type": "code", 
            "metadata": {}, 
            "outputs": [], 
            "source": ""
        }, 
        {
            "source": "# Decision Tree", 
            "cell_type": "markdown", 
            "metadata": {}
        }, 
        {
            "execution_count": null, 
            "cell_type": "code", 
            "metadata": {}, 
            "outputs": [], 
            "source": ""
        }, 
        {
            "execution_count": null, 
            "cell_type": "code", 
            "metadata": {}, 
            "outputs": [], 
            "source": ""
        }, 
        {
            "execution_count": null, 
            "cell_type": "code", 
            "metadata": {}, 
            "outputs": [], 
            "source": ""
        }, 
        {
            "source": "# Support Vector Machine", 
            "cell_type": "markdown", 
            "metadata": {}
        }, 
        {
            "execution_count": null, 
            "cell_type": "code", 
            "metadata": {}, 
            "outputs": [], 
            "source": ""
        }, 
        {
            "execution_count": null, 
            "cell_type": "code", 
            "metadata": {}, 
            "outputs": [], 
            "source": ""
        }, 
        {
            "execution_count": null, 
            "cell_type": "code", 
            "metadata": {}, 
            "outputs": [], 
            "source": ""
        }, 
        {
            "source": "# Logistic Regression", 
            "cell_type": "markdown", 
            "metadata": {}
        }, 
        {
            "execution_count": null, 
            "cell_type": "code", 
            "metadata": {}, 
            "outputs": [], 
            "source": ""
        }, 
        {
            "execution_count": null, 
            "cell_type": "code", 
            "metadata": {}, 
            "outputs": [], 
            "source": ""
        }, 
        {
            "execution_count": null, 
            "cell_type": "code", 
            "metadata": {}, 
            "outputs": [], 
            "source": ""
        }, 
        {
            "source": "# Model Evaluation using Test set", 
            "cell_type": "markdown", 
            "metadata": {}
        }, 
        {
            "execution_count": 40, 
            "cell_type": "code", 
            "metadata": {}, 
            "outputs": [], 
            "source": "from sklearn.metrics import jaccard_similarity_score\nfrom sklearn.metrics import f1_score\nfrom sklearn.metrics import log_loss"
        }, 
        {
            "source": "First, download and load the test set:", 
            "cell_type": "markdown", 
            "metadata": {}
        }, 
        {
            "execution_count": 41, 
            "cell_type": "code", 
            "metadata": {}, 
            "outputs": [
                {
                    "output_type": "stream", 
                    "name": "stdout", 
                    "text": "--2019-07-08 01:24:50--  https://s3-api.us-geo.objectstorage.softlayer.net/cf-courses-data/CognitiveClass/ML0101ENv3/labs/loan_test.csv\nResolving s3-api.us-geo.objectstorage.softlayer.net (s3-api.us-geo.objectstorage.softlayer.net)... 67.228.254.193\nConnecting to s3-api.us-geo.objectstorage.softlayer.net (s3-api.us-geo.objectstorage.softlayer.net)|67.228.254.193|:443... connected.\nHTTP request sent, awaiting response... 200 OK\nLength: 3642 (3.6K) [text/csv]\nSaving to: \u2018loan_test.csv\u2019\n\n100%[======================================>] 3,642       --.-K/s   in 0s      \n\n2019-07-08 01:24:50 (686 MB/s) - \u2018loan_test.csv\u2019 saved [3642/3642]\n\n"
                }
            ], 
            "source": "!wget -O loan_test.csv https://s3-api.us-geo.objectstorage.softlayer.net/cf-courses-data/CognitiveClass/ML0101ENv3/labs/loan_test.csv"
        }, 
        {
            "source": "### Load Test set for evaluation ", 
            "cell_type": "markdown", 
            "metadata": {
                "button": false, 
                "new_sheet": false, 
                "run_control": {
                    "read_only": false
                }
            }
        }, 
        {
            "execution_count": 42, 
            "cell_type": "code", 
            "metadata": {
                "button": false, 
                "new_sheet": false, 
                "run_control": {
                    "read_only": false
                }
            }, 
            "outputs": [
                {
                    "execution_count": 42, 
                    "metadata": {}, 
                    "data": {
                        "text/html": "<div>\n<style scoped>\n    .dataframe tbody tr th:only-of-type {\n        vertical-align: middle;\n    }\n\n    .dataframe tbody tr th {\n        vertical-align: top;\n    }\n\n    .dataframe thead th {\n        text-align: right;\n    }\n</style>\n<table border=\"1\" class=\"dataframe\">\n  <thead>\n    <tr style=\"text-align: right;\">\n      <th></th>\n      <th>Unnamed: 0</th>\n      <th>Unnamed: 0.1</th>\n      <th>loan_status</th>\n      <th>Principal</th>\n      <th>terms</th>\n      <th>effective_date</th>\n      <th>due_date</th>\n      <th>age</th>\n      <th>education</th>\n      <th>Gender</th>\n    </tr>\n  </thead>\n  <tbody>\n    <tr>\n      <th>0</th>\n      <td>1</td>\n      <td>1</td>\n      <td>PAIDOFF</td>\n      <td>1000</td>\n      <td>30</td>\n      <td>9/8/2016</td>\n      <td>10/7/2016</td>\n      <td>50</td>\n      <td>Bechalor</td>\n      <td>female</td>\n    </tr>\n    <tr>\n      <th>1</th>\n      <td>5</td>\n      <td>5</td>\n      <td>PAIDOFF</td>\n      <td>300</td>\n      <td>7</td>\n      <td>9/9/2016</td>\n      <td>9/15/2016</td>\n      <td>35</td>\n      <td>Master or Above</td>\n      <td>male</td>\n    </tr>\n    <tr>\n      <th>2</th>\n      <td>21</td>\n      <td>21</td>\n      <td>PAIDOFF</td>\n      <td>1000</td>\n      <td>30</td>\n      <td>9/10/2016</td>\n      <td>10/9/2016</td>\n      <td>43</td>\n      <td>High School or Below</td>\n      <td>female</td>\n    </tr>\n    <tr>\n      <th>3</th>\n      <td>24</td>\n      <td>24</td>\n      <td>PAIDOFF</td>\n      <td>1000</td>\n      <td>30</td>\n      <td>9/10/2016</td>\n      <td>10/9/2016</td>\n      <td>26</td>\n      <td>college</td>\n      <td>male</td>\n    </tr>\n    <tr>\n      <th>4</th>\n      <td>35</td>\n      <td>35</td>\n      <td>PAIDOFF</td>\n      <td>800</td>\n      <td>15</td>\n      <td>9/11/2016</td>\n      <td>9/25/2016</td>\n      <td>29</td>\n      <td>Bechalor</td>\n      <td>male</td>\n    </tr>\n  </tbody>\n</table>\n</div>", 
                        "text/plain": "   Unnamed: 0  Unnamed: 0.1 loan_status  Principal  terms effective_date  \\\n0           1             1     PAIDOFF       1000     30       9/8/2016   \n1           5             5     PAIDOFF        300      7       9/9/2016   \n2          21            21     PAIDOFF       1000     30      9/10/2016   \n3          24            24     PAIDOFF       1000     30      9/10/2016   \n4          35            35     PAIDOFF        800     15      9/11/2016   \n\n    due_date  age             education  Gender  \n0  10/7/2016   50              Bechalor  female  \n1  9/15/2016   35       Master or Above    male  \n2  10/9/2016   43  High School or Below  female  \n3  10/9/2016   26               college    male  \n4  9/25/2016   29              Bechalor    male  "
                    }, 
                    "output_type": "execute_result"
                }
            ], 
            "source": "test_df = pd.read_csv('loan_test.csv')\ntest_df.head()"
        }, 
        {
            "execution_count": null, 
            "cell_type": "code", 
            "metadata": {}, 
            "outputs": [], 
            "source": ""
        }, 
        {
            "execution_count": null, 
            "cell_type": "code", 
            "metadata": {}, 
            "outputs": [], 
            "source": ""
        }, 
        {
            "execution_count": null, 
            "cell_type": "code", 
            "metadata": {}, 
            "outputs": [], 
            "source": ""
        }, 
        {
            "source": "# Report\nYou should be able to report the accuracy of the built model using different evaluation metrics:", 
            "cell_type": "markdown", 
            "metadata": {}
        }, 
        {
            "source": "| Algorithm          | Jaccard | F1-score | LogLoss |\n|--------------------|---------|----------|---------|\n| KNN                | ?       | ?        | NA      |\n| Decision Tree      | ?       | ?        | NA      |\n| SVM                | ?       | ?        | NA      |\n| LogisticRegression | ?       | ?        | ?       |", 
            "cell_type": "markdown", 
            "metadata": {}
        }, 
        {
            "source": "<h2>Want to learn more?</h2>\n\nIBM SPSS Modeler is a comprehensive analytics platform that has many machine learning algorithms. It has been designed to bring predictive intelligence to decisions made by individuals, by groups, by systems \u2013 by your enterprise as a whole. A free trial is available through this course, available here: <a href=\"http://cocl.us/ML0101EN-SPSSModeler\">SPSS Modeler</a>\n\nAlso, you can use Watson Studio to run these notebooks faster with bigger datasets. Watson Studio is IBM's leading cloud solution for data scientists, built by data scientists. With Jupyter notebooks, RStudio, Apache Spark and popular libraries pre-packaged in the cloud, Watson Studio enables data scientists to collaborate on their projects without having to install anything. Join the fast-growing community of Watson Studio users today with a free account at <a href=\"https://cocl.us/ML0101EN_DSX\">Watson Studio</a>\n\n<h3>Thanks for completing this lesson!</h3>\n\n<h4>Author:  <a href=\"https://ca.linkedin.com/in/saeedaghabozorgi\">Saeed Aghabozorgi</a></h4>\n<p><a href=\"https://ca.linkedin.com/in/saeedaghabozorgi\">Saeed Aghabozorgi</a>, PhD is a Data Scientist in IBM with a track record of developing enterprise level applications that substantially increases clients\u2019 ability to turn data into actionable knowledge. He is a researcher in data mining field and expert in developing advanced analytic methods like machine learning and statistical modelling on large datasets.</p>\n\n<hr>\n\n<p>Copyright &copy; 2018 <a href=\"https://cocl.us/DX0108EN_CC\">Cognitive Class</a>. This notebook and its source code are released under the terms of the <a href=\"https://bigdatauniversity.com/mit-license/\">MIT License</a>.</p>", 
            "cell_type": "markdown", 
            "metadata": {
                "button": false, 
                "new_sheet": false, 
                "run_control": {
                    "read_only": false
                }
            }
        }, 
        {
            "execution_count": 20, 
            "cell_type": "code", 
            "metadata": {}, 
            "outputs": [
                {
                    "output_type": "stream", 
                    "name": "stdout", 
                    "text": "loan_train.csv\r\n"
                }
            ], 
            "source": "!tar chvzf notebook.tar.gz --exclude notebook.tar.gz *"
        }, 
        {
            "execution_count": null, 
            "cell_type": "code", 
            "metadata": {}, 
            "outputs": [], 
            "source": ""
        }
    ], 
    "metadata": {
        "kernelspec": {
            "display_name": "Python 3.6", 
            "name": "python3", 
            "language": "python"
        }, 
        "language_info": {
            "mimetype": "text/x-python", 
            "nbconvert_exporter": "python", 
            "version": "3.6.8", 
            "name": "python", 
            "file_extension": ".py", 
            "pygments_lexer": "ipython3", 
            "codemirror_mode": {
                "version": 3, 
                "name": "ipython"
            }
        }
    }, 
    "nbformat": 4
}